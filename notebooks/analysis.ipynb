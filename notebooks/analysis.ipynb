{
 "cells": [
  {
   "cell_type": "markdown",
   "metadata": {},
   "source": [
    "# Considering Bias in Data\n",
    "\n",
    "#### **Homework #2**\n",
    "\n",
    "This assignment is part of the course DATA 512 - Human Centered Data Science.  \n",
    "\n",
    "The goal of this assignment is to explore the concept of bias in data using Wikipedia articles.  \n",
    "We perform an analysis of the number of articles and their qualities across different countries and regions.  \n",
    "A discussion of the results is presented in the Readme section of this repository.  \n",
    "\n",
    "This notebook has the following sections:  \n",
    "1. Getting the population data and list of articles\n",
    "1. Getting the Article Quality data\n",
    "1. Combining the two datasets\n",
    "1. Analysis and Results\n"
   ]
  },
  {
   "cell_type": "markdown",
   "metadata": {},
   "source": [
    "## 1. Getting the population data and list of articles\n",
    "\n",
    "First we import the libraries that we will need throughout this notebook"
   ]
  },
  {
   "cell_type": "code",
   "execution_count": 1,
   "metadata": {},
   "outputs": [],
   "source": [
    "# \n",
    "# These are standard python modules\n",
    "import urllib, json, time\n",
    "#\n",
    "# You will need to install the modules below with pip/pip3 if you do not already have it\n",
    "# You could also use the requirements.txt file in this repo for easily installing all the dependencies\n",
    "import pandas as pd\n",
    "import numpy as np\n",
    "import requests\n",
    "from tqdm import tqdm"
   ]
  },
  {
   "cell_type": "markdown",
   "metadata": {},
   "source": [
    "The **population data** and **list of articles** are present in the files `input/population_by_country_2022.csv` and `input/politicians_by_country_SEPT_2022.csv` respectively.  \n",
    "\n",
    "The population data was sourced from the [world population data sheet](https://www.prb.org/international/indicator/population/table/) published by the Population Reference Bureau whereas the list of articles is sourced from the Politicians by nationality category from Wikipedia."
   ]
  },
  {
   "cell_type": "code",
   "execution_count": 5,
   "metadata": {},
   "outputs": [
    {
     "data": {
      "text/html": [
       "<div>\n",
       "<style scoped>\n",
       "    .dataframe tbody tr th:only-of-type {\n",
       "        vertical-align: middle;\n",
       "    }\n",
       "\n",
       "    .dataframe tbody tr th {\n",
       "        vertical-align: top;\n",
       "    }\n",
       "\n",
       "    .dataframe thead th {\n",
       "        text-align: right;\n",
       "    }\n",
       "</style>\n",
       "<table border=\"1\" class=\"dataframe\">\n",
       "  <thead>\n",
       "    <tr style=\"text-align: right;\">\n",
       "      <th></th>\n",
       "      <th>Geography</th>\n",
       "      <th>Population (millions)</th>\n",
       "    </tr>\n",
       "  </thead>\n",
       "  <tbody>\n",
       "    <tr>\n",
       "      <th>0</th>\n",
       "      <td>WORLD</td>\n",
       "      <td>7963.0</td>\n",
       "    </tr>\n",
       "    <tr>\n",
       "      <th>1</th>\n",
       "      <td>AFRICA</td>\n",
       "      <td>1419.0</td>\n",
       "    </tr>\n",
       "    <tr>\n",
       "      <th>2</th>\n",
       "      <td>NORTHERN AFRICA</td>\n",
       "      <td>251.0</td>\n",
       "    </tr>\n",
       "    <tr>\n",
       "      <th>3</th>\n",
       "      <td>Algeria</td>\n",
       "      <td>44.9</td>\n",
       "    </tr>\n",
       "    <tr>\n",
       "      <th>4</th>\n",
       "      <td>Egypt</td>\n",
       "      <td>103.5</td>\n",
       "    </tr>\n",
       "    <tr>\n",
       "      <th>5</th>\n",
       "      <td>Libya</td>\n",
       "      <td>6.8</td>\n",
       "    </tr>\n",
       "    <tr>\n",
       "      <th>6</th>\n",
       "      <td>Morocco</td>\n",
       "      <td>36.7</td>\n",
       "    </tr>\n",
       "    <tr>\n",
       "      <th>7</th>\n",
       "      <td>Sudan</td>\n",
       "      <td>46.9</td>\n",
       "    </tr>\n",
       "    <tr>\n",
       "      <th>8</th>\n",
       "      <td>Tunisia</td>\n",
       "      <td>11.8</td>\n",
       "    </tr>\n",
       "    <tr>\n",
       "      <th>9</th>\n",
       "      <td>Western Sahara</td>\n",
       "      <td>0.6</td>\n",
       "    </tr>\n",
       "  </tbody>\n",
       "</table>\n",
       "</div>"
      ],
      "text/plain": [
       "         Geography  Population (millions)\n",
       "0            WORLD                 7963.0\n",
       "1           AFRICA                 1419.0\n",
       "2  NORTHERN AFRICA                  251.0\n",
       "3          Algeria                   44.9\n",
       "4            Egypt                  103.5\n",
       "5            Libya                    6.8\n",
       "6          Morocco                   36.7\n",
       "7            Sudan                   46.9\n",
       "8          Tunisia                   11.8\n",
       "9   Western Sahara                    0.6"
      ]
     },
     "execution_count": 5,
     "metadata": {},
     "output_type": "execute_result"
    }
   ],
   "source": [
    "pop_df = pd.read_csv('../input/population_by_country_2022.csv')\n",
    "politicians_df = pd.read_csv('../input/politicians_by_country_SEPT_2022.csv')\n",
    "\n",
    "pop_df.head(10)"
   ]
  },
  {
   "cell_type": "markdown",
   "metadata": {},
   "source": [
    "If we look at the population data present in this file, it is stored in a heirarchical format where the closest region is shown in uppercase letters. The countries belonging to that region occur in the following lines and are a mix of uppercase and lowercase letters.  \n",
    "\n",
    "We use this information to convert this into a tabular format where we create an additional column to denote the closest region of that country.  \n",
    "\n",
    "This is done by the following lines of code."
   ]
  },
  {
   "cell_type": "code",
   "execution_count": 8,
   "metadata": {},
   "outputs": [
    {
     "data": {
      "text/html": [
       "<div>\n",
       "<style scoped>\n",
       "    .dataframe tbody tr th:only-of-type {\n",
       "        vertical-align: middle;\n",
       "    }\n",
       "\n",
       "    .dataframe tbody tr th {\n",
       "        vertical-align: top;\n",
       "    }\n",
       "\n",
       "    .dataframe thead th {\n",
       "        text-align: right;\n",
       "    }\n",
       "</style>\n",
       "<table border=\"1\" class=\"dataframe\">\n",
       "  <thead>\n",
       "    <tr style=\"text-align: right;\">\n",
       "      <th></th>\n",
       "      <th>Geography</th>\n",
       "      <th>Population (millions)</th>\n",
       "      <th>region</th>\n",
       "    </tr>\n",
       "  </thead>\n",
       "  <tbody>\n",
       "    <tr>\n",
       "      <th>3</th>\n",
       "      <td>Algeria</td>\n",
       "      <td>44.9</td>\n",
       "      <td>NORTHERN AFRICA</td>\n",
       "    </tr>\n",
       "    <tr>\n",
       "      <th>4</th>\n",
       "      <td>Egypt</td>\n",
       "      <td>103.5</td>\n",
       "      <td>NORTHERN AFRICA</td>\n",
       "    </tr>\n",
       "    <tr>\n",
       "      <th>5</th>\n",
       "      <td>Libya</td>\n",
       "      <td>6.8</td>\n",
       "      <td>NORTHERN AFRICA</td>\n",
       "    </tr>\n",
       "    <tr>\n",
       "      <th>6</th>\n",
       "      <td>Morocco</td>\n",
       "      <td>36.7</td>\n",
       "      <td>NORTHERN AFRICA</td>\n",
       "    </tr>\n",
       "    <tr>\n",
       "      <th>7</th>\n",
       "      <td>Sudan</td>\n",
       "      <td>46.9</td>\n",
       "      <td>NORTHERN AFRICA</td>\n",
       "    </tr>\n",
       "    <tr>\n",
       "      <th>...</th>\n",
       "      <td>...</td>\n",
       "      <td>...</td>\n",
       "      <td>...</td>\n",
       "    </tr>\n",
       "    <tr>\n",
       "      <th>228</th>\n",
       "      <td>Samoa</td>\n",
       "      <td>0.2</td>\n",
       "      <td>OCEANIA</td>\n",
       "    </tr>\n",
       "    <tr>\n",
       "      <th>229</th>\n",
       "      <td>Solomon Islands</td>\n",
       "      <td>0.7</td>\n",
       "      <td>OCEANIA</td>\n",
       "    </tr>\n",
       "    <tr>\n",
       "      <th>230</th>\n",
       "      <td>Tonga</td>\n",
       "      <td>0.1</td>\n",
       "      <td>OCEANIA</td>\n",
       "    </tr>\n",
       "    <tr>\n",
       "      <th>231</th>\n",
       "      <td>Tuvalu</td>\n",
       "      <td>0.0</td>\n",
       "      <td>OCEANIA</td>\n",
       "    </tr>\n",
       "    <tr>\n",
       "      <th>232</th>\n",
       "      <td>Vanuatu</td>\n",
       "      <td>0.3</td>\n",
       "      <td>OCEANIA</td>\n",
       "    </tr>\n",
       "  </tbody>\n",
       "</table>\n",
       "<p>209 rows × 3 columns</p>\n",
       "</div>"
      ],
      "text/plain": [
       "           Geography  Population (millions)           region\n",
       "3            Algeria                   44.9  NORTHERN AFRICA\n",
       "4              Egypt                  103.5  NORTHERN AFRICA\n",
       "5              Libya                    6.8  NORTHERN AFRICA\n",
       "6            Morocco                   36.7  NORTHERN AFRICA\n",
       "7              Sudan                   46.9  NORTHERN AFRICA\n",
       "..               ...                    ...              ...\n",
       "228            Samoa                    0.2          OCEANIA\n",
       "229  Solomon Islands                    0.7          OCEANIA\n",
       "230            Tonga                    0.1          OCEANIA\n",
       "231           Tuvalu                    0.0          OCEANIA\n",
       "232          Vanuatu                    0.3          OCEANIA\n",
       "\n",
       "[209 rows x 3 columns]"
      ]
     },
     "execution_count": 8,
     "metadata": {},
     "output_type": "execute_result"
    }
   ],
   "source": [
    "pop_df['is_region'] = pop_df['Geography'].apply(str.isupper)\n",
    "pop_df.loc[pop_df['is_region'], 'region'] = pop_df['Geography']\n",
    "pop_df['region'] = pop_df['region'].ffill()\n",
    "\n",
    "population_df = pop_df[pop_df['is_region']==False]\n",
    "population_df = population_df.drop('is_region', axis=1)\n",
    "population_df"
   ]
  },
  {
   "cell_type": "markdown",
   "metadata": {},
   "source": [
    "## 2. Getting the Article Quality data\n",
    "\n",
    "Next, we get the article quality prediction from a machine learning system called [ORES](https://www.mediawiki.org/wiki/ORES).  \n",
    "To get the article quality prediction from ORES, we also need to supply the revision_id of the article. We get the latest revision_id of the article using the [API:Info](https://www.mediawiki.org/wiki/API:Info)   \n",
    "\n",
    "We first write two classes that will be able to fetch the response from these APIs. These two classes are written below."
   ]
  },
  {
   "cell_type": "code",
   "execution_count": 9,
   "metadata": {},
   "outputs": [],
   "source": [
    "class ORES_APIRequest(object):\n",
    "    def __init__(self) -> None:\n",
    "        self.endpoint_url = \"https://ores.wikimedia.org/v3\"\n",
    "        self.endpoint_params = \"/scores/{context}/{revid}/{model}\"\n",
    "        self.request_headers = {\n",
    "            'User-Agent': 'abhis1@uw.edu, University of Washington, MSDS DATA 512 - AUTUMN 2022',\n",
    "        }\n",
    "        self.params_template = {\n",
    "            \"context\": \"enwiki\",        # which WMF project for the specified revid\n",
    "            \"revid\" : \"\",               # the revision to be scored - this will probably change each call\n",
    "            \"model\": \"articlequality\"   # the AI/ML scoring model to apply to the reviewion\n",
    "        }\n",
    "        self.API_LATENCY_ASSUMED = 0.005\n",
    "        self.API_THROTTLE_WAIT = (1.0/100.0) - self.API_LATENCY_ASSUMED\n",
    "\n",
    "    def fetch(self, article_revid = None):\n",
    "        # Make sure we have an article title\n",
    "        if not article_revid: return None\n",
    "\n",
    "        # set the revision id into the template\n",
    "        params_template = self.params_template\n",
    "        params_template['revid'] = article_revid\n",
    "\n",
    "        # now, create a request URL by combining the endpoint_url with the parameters for the request\n",
    "        request_url = self.endpoint_url + self.endpoint_params.format(**params_template)\n",
    "\n",
    "        # make the request\n",
    "        try:\n",
    "            # we'll wait first, to make sure we don't exceed the limit in the situation where an exception\n",
    "            # occurs during the request processing - throttling is always a good practice with a free\n",
    "            # data source like Wikipedia - or other community sources\n",
    "            if self.API_THROTTLE_WAIT > 0.0:\n",
    "                time.sleep(self.API_THROTTLE_WAIT)\n",
    "            response = requests.get(request_url, headers=self.request_headers)\n",
    "            json_response = response.json()\n",
    "        except Exception as e:\n",
    "            print(e)\n",
    "            json_response = None\n",
    "        return json_response\n",
    "\n",
    "\n",
    "class WikiMedia_APIRequest(object):\n",
    "    def __init__(self) -> None:\n",
    "        self.endpoint_url = \"https://en.wikipedia.org/w/api.php\"\n",
    "        self.request_headers = {\n",
    "            'User-Agent': 'abhis1@uw.edu, University of Washington, MSDS DATA 512 - AUTUMN 2022',\n",
    "        }\n",
    "        self.request_template = {\n",
    "            \"action\": \"query\",\n",
    "            \"format\": \"json\",\n",
    "            \"titles\": \"\",           # to simplify this should be a single page title at a time\n",
    "            \"prop\": \"info\",\n",
    "            \"inprop\": \"\"\n",
    "        }\n",
    "        self.API_LATENCY_ASSUMED = 0.005\n",
    "        self.API_THROTTLE_WAIT = (1.0/100.0) - self.API_LATENCY_ASSUMED\n",
    "\n",
    "    def fetch(self, article_title):\n",
    "        if not article_title: return None\n",
    "\n",
    "        request_template = self.request_template\n",
    "\n",
    "        request_template['titles'] = article_title\n",
    "            \n",
    "        # make the request\n",
    "        try:\n",
    "            # we'll wait first, to make sure we don't exceed the limit in the situation where an exception\n",
    "            # occurs during the request processing - throttling is always a good practice with a free\n",
    "            # data source like Wikipedia - or any other community sources\n",
    "            if self.API_THROTTLE_WAIT > 0.0:\n",
    "                time.sleep(self.API_THROTTLE_WAIT)\n",
    "            response = requests.get(self.endpoint_url, headers=self.request_headers, params=request_template)\n",
    "            json_response = response.json()\n",
    "        except Exception as e:\n",
    "            print(e)\n",
    "            json_response = None\n",
    "        return json_response"
   ]
  },
  {
   "cell_type": "markdown",
   "metadata": {},
   "source": [
    "Next we create two instances of the above two classes. We also create two lists that will store the revision_ids and quality predictions of the articles."
   ]
  },
  {
   "cell_type": "code",
   "execution_count": 10,
   "metadata": {},
   "outputs": [],
   "source": [
    "wiki_api_fetcher = WikiMedia_APIRequest()\n",
    "ores_fetcher = ORES_APIRequest()\n",
    "\n",
    "rev_id_list = []\n",
    "predictions = []"
   ]
  },
  {
   "cell_type": "markdown",
   "metadata": {},
   "source": [
    "Next, we loop through each article in the `politicians_df` dataframe, fetch the `revision_id`, then use that `revision_id` to fetch the quality prediction of that article.  \n",
    "\n",
    "We also handle any error by marking those articles are either \"NOT FOUND\" if the article doesn't return a revision_id or \"NO PRED\" if the revision_id doesn't return a prediction.  \n",
    "\n",
    "The revision ids and quality predictions are added to the politicians dataframe as two new columns and we save this dataframe in the file `../data/politicians_with_revid_quality.csv`"
   ]
  },
  {
   "cell_type": "code",
   "execution_count": null,
   "metadata": {},
   "outputs": [],
   "source": [
    "for article_title in tqdm(list(politicians_df['name'])):\n",
    "    resp = wiki_api_fetcher.fetch(article_title)\n",
    "    try:\n",
    "        last_revid = list(resp['query']['pages'].values())[0]['lastrevid']\n",
    "    except:\n",
    "        last_revid = \"NOT FOUND\"\n",
    "        prediction = \"NO PRED\"\n",
    "\n",
    "    if last_revid == \"NOT FOUND\": \n",
    "        rev_id_list.append(last_revid)\n",
    "        predictions.append(prediction)\n",
    "        continue\n",
    "\n",
    "    ores_score = ores_fetcher.fetch(last_revid)\n",
    "    try:\n",
    "        prediction = ores_score[\"enwiki\"][\"scores\"][str(last_revid)][\"articlequality\"][\"score\"][\"prediction\"]\n",
    "    except:\n",
    "        prediction = \"NO PRED\"\n",
    "\n",
    "    rev_id_list.append(last_revid)\n",
    "    predictions.append(prediction)\n",
    "\n",
    "\n",
    "politicians_df['revision_id'] = rev_id_list\n",
    "politicians_df['article_quality'] = predictions\n",
    "\n",
    "politicians_df.to_csv('../data/politicians_with_revid_quality.csv')"
   ]
  },
  {
   "cell_type": "markdown",
   "metadata": {},
   "source": [
    "Once the data is saved to `../data/` folder, we can directly load it from here so that we don't need to fetch the data again."
   ]
  },
  {
   "cell_type": "code",
   "execution_count": 11,
   "metadata": {},
   "outputs": [],
   "source": [
    "politicians_df = pd.read_csv('../data/politicians_with_revid_quality.csv')"
   ]
  },
  {
   "cell_type": "markdown",
   "metadata": {},
   "source": [
    "Let us look at the entries for which we did not get any `revision_id` or `article_quality`"
   ]
  },
  {
   "cell_type": "code",
   "execution_count": 17,
   "metadata": {},
   "outputs": [
    {
     "data": {
      "text/html": [
       "<div>\n",
       "<style scoped>\n",
       "    .dataframe tbody tr th:only-of-type {\n",
       "        vertical-align: middle;\n",
       "    }\n",
       "\n",
       "    .dataframe tbody tr th {\n",
       "        vertical-align: top;\n",
       "    }\n",
       "\n",
       "    .dataframe thead th {\n",
       "        text-align: right;\n",
       "    }\n",
       "</style>\n",
       "<table border=\"1\" class=\"dataframe\">\n",
       "  <thead>\n",
       "    <tr style=\"text-align: right;\">\n",
       "      <th></th>\n",
       "      <th>Unnamed: 0</th>\n",
       "      <th>name</th>\n",
       "      <th>url</th>\n",
       "      <th>country</th>\n",
       "      <th>revision_id</th>\n",
       "      <th>article_quality</th>\n",
       "    </tr>\n",
       "  </thead>\n",
       "  <tbody>\n",
       "    <tr>\n",
       "      <th>2446</th>\n",
       "      <td>2446</td>\n",
       "      <td>Prince Ofosu Sefah</td>\n",
       "      <td>https://en.wikipedia.org/wiki/Prince_Ofosu_Sefah</td>\n",
       "      <td>Ghana</td>\n",
       "      <td>NOT FOUND</td>\n",
       "      <td>NO PRED</td>\n",
       "    </tr>\n",
       "    <tr>\n",
       "      <th>2985</th>\n",
       "      <td>2985</td>\n",
       "      <td>Harjit Kaur Talwandi</td>\n",
       "      <td>https://en.wikipedia.org/wiki/Harjit_Kaur_Talw...</td>\n",
       "      <td>India</td>\n",
       "      <td>NOT FOUND</td>\n",
       "      <td>NO PRED</td>\n",
       "    </tr>\n",
       "    <tr>\n",
       "      <th>3212</th>\n",
       "      <td>3212</td>\n",
       "      <td>Abd al-Razzaq al-Hasani</td>\n",
       "      <td>https://en.wikipedia.org/wiki/'Abd_al-Razzaq_a...</td>\n",
       "      <td>Iraq</td>\n",
       "      <td>NOT FOUND</td>\n",
       "      <td>NO PRED</td>\n",
       "    </tr>\n",
       "    <tr>\n",
       "      <th>3784</th>\n",
       "      <td>3784</td>\n",
       "      <td>Kang Sun-nam</td>\n",
       "      <td>https://en.wikipedia.org/wiki/Kang_Sun-nam</td>\n",
       "      <td>Korea, North</td>\n",
       "      <td>NOT FOUND</td>\n",
       "      <td>NO PRED</td>\n",
       "    </tr>\n",
       "    <tr>\n",
       "      <th>4865</th>\n",
       "      <td>4865</td>\n",
       "      <td>Abiodun Abimbola Orekoya</td>\n",
       "      <td>https://en.wikipedia.org/wiki/Abiodun_Abimbola...</td>\n",
       "      <td>Nigeria</td>\n",
       "      <td>NOT FOUND</td>\n",
       "      <td>NO PRED</td>\n",
       "    </tr>\n",
       "    <tr>\n",
       "      <th>4879</th>\n",
       "      <td>4879</td>\n",
       "      <td>Segun “Aeroland” Adewale</td>\n",
       "      <td>https://en.wikipedia.org/wiki/Segun_”Aeroland”...</td>\n",
       "      <td>Nigeria</td>\n",
       "      <td>NOT FOUND</td>\n",
       "      <td>NO PRED</td>\n",
       "    </tr>\n",
       "    <tr>\n",
       "      <th>5801</th>\n",
       "      <td>5801</td>\n",
       "      <td>Roman Konoplev</td>\n",
       "      <td>https://en.wikipedia.org/wiki/Roman_Konoplev</td>\n",
       "      <td>Russia</td>\n",
       "      <td>NOT FOUND</td>\n",
       "      <td>NO PRED</td>\n",
       "    </tr>\n",
       "    <tr>\n",
       "      <th>6344</th>\n",
       "      <td>6344</td>\n",
       "      <td>Nhlanhla “Lux” Dlamini</td>\n",
       "      <td>https://en.wikipedia.org/wiki/Nhlanhla_”Lux”_D...</td>\n",
       "      <td>South Africa</td>\n",
       "      <td>NOT FOUND</td>\n",
       "      <td>NO PRED</td>\n",
       "    </tr>\n",
       "  </tbody>\n",
       "</table>\n",
       "</div>"
      ],
      "text/plain": [
       "      Unnamed: 0                      name  \\\n",
       "2446        2446        Prince Ofosu Sefah   \n",
       "2985        2985      Harjit Kaur Talwandi   \n",
       "3212        3212   Abd al-Razzaq al-Hasani   \n",
       "3784        3784              Kang Sun-nam   \n",
       "4865        4865  Abiodun Abimbola Orekoya   \n",
       "4879        4879  Segun “Aeroland” Adewale   \n",
       "5801        5801            Roman Konoplev   \n",
       "6344        6344    Nhlanhla “Lux” Dlamini   \n",
       "\n",
       "                                                    url       country  \\\n",
       "2446   https://en.wikipedia.org/wiki/Prince_Ofosu_Sefah         Ghana   \n",
       "2985  https://en.wikipedia.org/wiki/Harjit_Kaur_Talw...         India   \n",
       "3212  https://en.wikipedia.org/wiki/'Abd_al-Razzaq_a...          Iraq   \n",
       "3784         https://en.wikipedia.org/wiki/Kang_Sun-nam  Korea, North   \n",
       "4865  https://en.wikipedia.org/wiki/Abiodun_Abimbola...       Nigeria   \n",
       "4879  https://en.wikipedia.org/wiki/Segun_”Aeroland”...       Nigeria   \n",
       "5801       https://en.wikipedia.org/wiki/Roman_Konoplev        Russia   \n",
       "6344  https://en.wikipedia.org/wiki/Nhlanhla_”Lux”_D...  South Africa   \n",
       "\n",
       "     revision_id article_quality  \n",
       "2446   NOT FOUND         NO PRED  \n",
       "2985   NOT FOUND         NO PRED  \n",
       "3212   NOT FOUND         NO PRED  \n",
       "3784   NOT FOUND         NO PRED  \n",
       "4865   NOT FOUND         NO PRED  \n",
       "4879   NOT FOUND         NO PRED  \n",
       "5801   NOT FOUND         NO PRED  \n",
       "6344   NOT FOUND         NO PRED  "
      ]
     },
     "execution_count": 17,
     "metadata": {},
     "output_type": "execute_result"
    }
   ],
   "source": [
    "politicians_df[np.logical_or(politicians_df['revision_id']==\"NOT FOUND\", politicians_df['article_quality']==\"NO PRED\")]"
   ]
  },
  {
   "cell_type": "markdown",
   "metadata": {},
   "source": [
    "We simply filter out these entries for subsequent analysis."
   ]
  },
  {
   "cell_type": "code",
   "execution_count": 18,
   "metadata": {},
   "outputs": [],
   "source": [
    "politicians_df = politicians_df[~np.logical_or(politicians_df['revision_id']==\"NOT FOUND\", politicians_df['article_quality']==\"NO PRED\")]"
   ]
  },
  {
   "cell_type": "code",
   "execution_count": 19,
   "metadata": {},
   "outputs": [
    {
     "data": {
      "text/html": [
       "<div>\n",
       "<style scoped>\n",
       "    .dataframe tbody tr th:only-of-type {\n",
       "        vertical-align: middle;\n",
       "    }\n",
       "\n",
       "    .dataframe tbody tr th {\n",
       "        vertical-align: top;\n",
       "    }\n",
       "\n",
       "    .dataframe thead th {\n",
       "        text-align: right;\n",
       "    }\n",
       "</style>\n",
       "<table border=\"1\" class=\"dataframe\">\n",
       "  <thead>\n",
       "    <tr style=\"text-align: right;\">\n",
       "      <th></th>\n",
       "      <th>Unnamed: 0</th>\n",
       "      <th>name</th>\n",
       "      <th>url</th>\n",
       "      <th>country</th>\n",
       "      <th>revision_id</th>\n",
       "      <th>article_quality</th>\n",
       "    </tr>\n",
       "  </thead>\n",
       "  <tbody>\n",
       "    <tr>\n",
       "      <th>0</th>\n",
       "      <td>0</td>\n",
       "      <td>Shahjahan Noori</td>\n",
       "      <td>https://en.wikipedia.org/wiki/Shahjahan_Noori</td>\n",
       "      <td>Afghanistan</td>\n",
       "      <td>1099689043</td>\n",
       "      <td>GA</td>\n",
       "    </tr>\n",
       "    <tr>\n",
       "      <th>1</th>\n",
       "      <td>1</td>\n",
       "      <td>Abdul Ghafar Lakanwal</td>\n",
       "      <td>https://en.wikipedia.org/wiki/Abdul_Ghafar_Lak...</td>\n",
       "      <td>Afghanistan</td>\n",
       "      <td>943562276</td>\n",
       "      <td>Start</td>\n",
       "    </tr>\n",
       "    <tr>\n",
       "      <th>2</th>\n",
       "      <td>2</td>\n",
       "      <td>Majah Ha Adrif</td>\n",
       "      <td>https://en.wikipedia.org/wiki/Majah_Ha_Adrif</td>\n",
       "      <td>Afghanistan</td>\n",
       "      <td>852404094</td>\n",
       "      <td>Start</td>\n",
       "    </tr>\n",
       "    <tr>\n",
       "      <th>3</th>\n",
       "      <td>3</td>\n",
       "      <td>Haroon al-Afghani</td>\n",
       "      <td>https://en.wikipedia.org/wiki/Haroon_al-Afghani</td>\n",
       "      <td>Afghanistan</td>\n",
       "      <td>1095102390</td>\n",
       "      <td>B</td>\n",
       "    </tr>\n",
       "    <tr>\n",
       "      <th>4</th>\n",
       "      <td>4</td>\n",
       "      <td>Tayyab Agha</td>\n",
       "      <td>https://en.wikipedia.org/wiki/Tayyab_Agha</td>\n",
       "      <td>Afghanistan</td>\n",
       "      <td>1104998382</td>\n",
       "      <td>Start</td>\n",
       "    </tr>\n",
       "    <tr>\n",
       "      <th>...</th>\n",
       "      <td>...</td>\n",
       "      <td>...</td>\n",
       "      <td>...</td>\n",
       "      <td>...</td>\n",
       "      <td>...</td>\n",
       "      <td>...</td>\n",
       "    </tr>\n",
       "    <tr>\n",
       "      <th>7579</th>\n",
       "      <td>7579</td>\n",
       "      <td>Rekayi Tangwena</td>\n",
       "      <td>https://en.wikipedia.org/wiki/Rekayi_Tangwena</td>\n",
       "      <td>Zimbabwe</td>\n",
       "      <td>1073818982</td>\n",
       "      <td>Stub</td>\n",
       "    </tr>\n",
       "    <tr>\n",
       "      <th>7580</th>\n",
       "      <td>7580</td>\n",
       "      <td>Josiah Tongogara</td>\n",
       "      <td>https://en.wikipedia.org/wiki/Josiah_Tongogara</td>\n",
       "      <td>Zimbabwe</td>\n",
       "      <td>1106932400</td>\n",
       "      <td>C</td>\n",
       "    </tr>\n",
       "    <tr>\n",
       "      <th>7581</th>\n",
       "      <td>7581</td>\n",
       "      <td>Langton Towungana</td>\n",
       "      <td>https://en.wikipedia.org/wiki/Langton_Towungana</td>\n",
       "      <td>Zimbabwe</td>\n",
       "      <td>904246837</td>\n",
       "      <td>Stub</td>\n",
       "    </tr>\n",
       "    <tr>\n",
       "      <th>7582</th>\n",
       "      <td>7582</td>\n",
       "      <td>Herbert Ushewokunze</td>\n",
       "      <td>https://en.wikipedia.org/wiki/Herbert_Ushewokunze</td>\n",
       "      <td>Zimbabwe</td>\n",
       "      <td>959111842</td>\n",
       "      <td>Stub</td>\n",
       "    </tr>\n",
       "    <tr>\n",
       "      <th>7583</th>\n",
       "      <td>7583</td>\n",
       "      <td>Denis Walker</td>\n",
       "      <td>https://en.wikipedia.org/wiki/Denis_Walker</td>\n",
       "      <td>Zimbabwe</td>\n",
       "      <td>1111257734</td>\n",
       "      <td>C</td>\n",
       "    </tr>\n",
       "  </tbody>\n",
       "</table>\n",
       "<p>7576 rows × 6 columns</p>\n",
       "</div>"
      ],
      "text/plain": [
       "      Unnamed: 0                   name  \\\n",
       "0              0        Shahjahan Noori   \n",
       "1              1  Abdul Ghafar Lakanwal   \n",
       "2              2         Majah Ha Adrif   \n",
       "3              3      Haroon al-Afghani   \n",
       "4              4            Tayyab Agha   \n",
       "...          ...                    ...   \n",
       "7579        7579        Rekayi Tangwena   \n",
       "7580        7580       Josiah Tongogara   \n",
       "7581        7581      Langton Towungana   \n",
       "7582        7582    Herbert Ushewokunze   \n",
       "7583        7583           Denis Walker   \n",
       "\n",
       "                                                    url      country  \\\n",
       "0         https://en.wikipedia.org/wiki/Shahjahan_Noori  Afghanistan   \n",
       "1     https://en.wikipedia.org/wiki/Abdul_Ghafar_Lak...  Afghanistan   \n",
       "2          https://en.wikipedia.org/wiki/Majah_Ha_Adrif  Afghanistan   \n",
       "3       https://en.wikipedia.org/wiki/Haroon_al-Afghani  Afghanistan   \n",
       "4             https://en.wikipedia.org/wiki/Tayyab_Agha  Afghanistan   \n",
       "...                                                 ...          ...   \n",
       "7579      https://en.wikipedia.org/wiki/Rekayi_Tangwena     Zimbabwe   \n",
       "7580     https://en.wikipedia.org/wiki/Josiah_Tongogara     Zimbabwe   \n",
       "7581    https://en.wikipedia.org/wiki/Langton_Towungana     Zimbabwe   \n",
       "7582  https://en.wikipedia.org/wiki/Herbert_Ushewokunze     Zimbabwe   \n",
       "7583         https://en.wikipedia.org/wiki/Denis_Walker     Zimbabwe   \n",
       "\n",
       "     revision_id article_quality  \n",
       "0     1099689043              GA  \n",
       "1      943562276           Start  \n",
       "2      852404094           Start  \n",
       "3     1095102390               B  \n",
       "4     1104998382           Start  \n",
       "...          ...             ...  \n",
       "7579  1073818982            Stub  \n",
       "7580  1106932400               C  \n",
       "7581   904246837            Stub  \n",
       "7582   959111842            Stub  \n",
       "7583  1111257734               C  \n",
       "\n",
       "[7576 rows x 6 columns]"
      ]
     },
     "execution_count": 19,
     "metadata": {},
     "output_type": "execute_result"
    }
   ],
   "source": [
    "politicians_df"
   ]
  },
  {
   "cell_type": "markdown",
   "metadata": {},
   "source": [
    "## 3. Combining the two datasets\n",
    "\n",
    "Next, we combine the populations dataframe with the politicians dataframe.  \n",
    "\n",
    "We first convert the countries to lowercase and then merge the two tables on `country`. Then, we only keep the required columns."
   ]
  },
  {
   "cell_type": "code",
   "execution_count": 20,
   "metadata": {},
   "outputs": [
    {
     "name": "stderr",
     "output_type": "stream",
     "text": [
      "/tmp/ipykernel_112275/2163950362.py:2: SettingWithCopyWarning: \n",
      "A value is trying to be set on a copy of a slice from a DataFrame.\n",
      "Try using .loc[row_indexer,col_indexer] = value instead\n",
      "\n",
      "See the caveats in the documentation: https://pandas.pydata.org/pandas-docs/stable/user_guide/indexing.html#returning-a-view-versus-a-copy\n",
      "  politicians_df['country'] = politicians_df['country'].str.lower()\n"
     ]
    }
   ],
   "source": [
    "population_df['country'] = population_df['Geography'].str.lower()\n",
    "politicians_df['country'] = politicians_df['country'].str.lower()\n",
    "\n",
    "merged_df = pd.merge(politicians_df, population_df, how='left', on='country')\n",
    "merged_df = merged_df[['country', 'region', 'Population (millions)', 'name', 'revision_id', 'article_quality']]"
   ]
  },
  {
   "cell_type": "markdown",
   "metadata": {},
   "source": [
    "Now, we check for countries that have region is a null value. This can happen if the country in politicians dataframe is not present in population dataframe.  \n",
    "We also filter out the countries that have zero population since that would not allow us to analyze the data at per capita level.  \n",
    "\n",
    "These countries are saved to the file `result/wp_countries-no_match.txt` "
   ]
  },
  {
   "cell_type": "code",
   "execution_count": 23,
   "metadata": {},
   "outputs": [
    {
     "data": {
      "text/plain": [
       "array(['korean', 'liechtenstein', 'monaco', 'nauru', 'palau',\n",
       "       'san marino', 'tuvalu'], dtype=object)"
      ]
     },
     "execution_count": 23,
     "metadata": {},
     "output_type": "execute_result"
    }
   ],
   "source": [
    "null_regions = merged_df[np.logical_or(merged_df['region'].isnull(), merged_df['Population (millions)'] == 0)]\n",
    "null_countries = null_regions['country'].unique()\n",
    "\n",
    "np.savetxt('../result/wp_countries-no_match.txt', null_countries, delimiter=',', fmt='%s')\n",
    "null_countries"
   ]
  },
  {
   "cell_type": "markdown",
   "metadata": {},
   "source": [
    "We filter out the above countries from the merged dataframe and save it to the file `data/wp_politicians_by_country.csv`"
   ]
  },
  {
   "cell_type": "code",
   "execution_count": 25,
   "metadata": {},
   "outputs": [
    {
     "data": {
      "text/html": [
       "<div>\n",
       "<style scoped>\n",
       "    .dataframe tbody tr th:only-of-type {\n",
       "        vertical-align: middle;\n",
       "    }\n",
       "\n",
       "    .dataframe tbody tr th {\n",
       "        vertical-align: top;\n",
       "    }\n",
       "\n",
       "    .dataframe thead th {\n",
       "        text-align: right;\n",
       "    }\n",
       "</style>\n",
       "<table border=\"1\" class=\"dataframe\">\n",
       "  <thead>\n",
       "    <tr style=\"text-align: right;\">\n",
       "      <th></th>\n",
       "      <th>country</th>\n",
       "      <th>region</th>\n",
       "      <th>Population (millions)</th>\n",
       "      <th>name</th>\n",
       "      <th>revision_id</th>\n",
       "      <th>article_quality</th>\n",
       "    </tr>\n",
       "  </thead>\n",
       "  <tbody>\n",
       "    <tr>\n",
       "      <th>0</th>\n",
       "      <td>afghanistan</td>\n",
       "      <td>SOUTH ASIA</td>\n",
       "      <td>41.1</td>\n",
       "      <td>Shahjahan Noori</td>\n",
       "      <td>1099689043</td>\n",
       "      <td>GA</td>\n",
       "    </tr>\n",
       "    <tr>\n",
       "      <th>1</th>\n",
       "      <td>afghanistan</td>\n",
       "      <td>SOUTH ASIA</td>\n",
       "      <td>41.1</td>\n",
       "      <td>Abdul Ghafar Lakanwal</td>\n",
       "      <td>943562276</td>\n",
       "      <td>Start</td>\n",
       "    </tr>\n",
       "    <tr>\n",
       "      <th>2</th>\n",
       "      <td>afghanistan</td>\n",
       "      <td>SOUTH ASIA</td>\n",
       "      <td>41.1</td>\n",
       "      <td>Majah Ha Adrif</td>\n",
       "      <td>852404094</td>\n",
       "      <td>Start</td>\n",
       "    </tr>\n",
       "    <tr>\n",
       "      <th>3</th>\n",
       "      <td>afghanistan</td>\n",
       "      <td>SOUTH ASIA</td>\n",
       "      <td>41.1</td>\n",
       "      <td>Haroon al-Afghani</td>\n",
       "      <td>1095102390</td>\n",
       "      <td>B</td>\n",
       "    </tr>\n",
       "    <tr>\n",
       "      <th>4</th>\n",
       "      <td>afghanistan</td>\n",
       "      <td>SOUTH ASIA</td>\n",
       "      <td>41.1</td>\n",
       "      <td>Tayyab Agha</td>\n",
       "      <td>1104998382</td>\n",
       "      <td>Start</td>\n",
       "    </tr>\n",
       "  </tbody>\n",
       "</table>\n",
       "</div>"
      ],
      "text/plain": [
       "       country      region  Population (millions)                   name  \\\n",
       "0  afghanistan  SOUTH ASIA                   41.1        Shahjahan Noori   \n",
       "1  afghanistan  SOUTH ASIA                   41.1  Abdul Ghafar Lakanwal   \n",
       "2  afghanistan  SOUTH ASIA                   41.1         Majah Ha Adrif   \n",
       "3  afghanistan  SOUTH ASIA                   41.1      Haroon al-Afghani   \n",
       "4  afghanistan  SOUTH ASIA                   41.1            Tayyab Agha   \n",
       "\n",
       "  revision_id article_quality  \n",
       "0  1099689043              GA  \n",
       "1   943562276           Start  \n",
       "2   852404094           Start  \n",
       "3  1095102390               B  \n",
       "4  1104998382           Start  "
      ]
     },
     "execution_count": 25,
     "metadata": {},
     "output_type": "execute_result"
    }
   ],
   "source": [
    "merged_df = merged_df[~np.logical_or(merged_df['region'].isnull(), merged_df['Population (millions)'] == 0)]\n",
    "\n",
    "merged_df.to_csv('../data/wp_politicians_by_country.csv', index=False)\n",
    "merged_df.head()"
   ]
  },
  {
   "cell_type": "markdown",
   "metadata": {},
   "source": [
    "## 4. Analysis and Results "
   ]
  },
  {
   "cell_type": "markdown",
   "metadata": {},
   "source": [
    "First, we load the saved file from `data/wp_politicians_by_country.csv` and create a new column `is_high_quality` which is set to True whenever the prediction is either 'GA' or 'FA'.  \n",
    "\n",
    "The article quality estimates are, from best to worst:  \n",
    "FA - Featured article  \n",
    "GA - Good article  \n",
    "B - B-class article  \n",
    "C - C-class article  \n",
    "Start - Start-class article  \n",
    "Stub - Stub-class article  "
   ]
  },
  {
   "cell_type": "code",
   "execution_count": 29,
   "metadata": {},
   "outputs": [],
   "source": [
    "analysis_df = pd.read_csv('../data/wp_politicians_by_country.csv')\n",
    "\n",
    "analysis_df['is_high_quality'] = analysis_df['article_quality'].apply(lambda x: True if (x == 'GA' or x == 'FA') else False)"
   ]
  },
  {
   "cell_type": "markdown",
   "metadata": {},
   "source": [
    "Then we calculate the total number of articles per country. We then divide the total number of articles by the population in millions to get articles per million population."
   ]
  },
  {
   "cell_type": "code",
   "execution_count": 30,
   "metadata": {},
   "outputs": [],
   "source": [
    "table = pd.pivot_table(\n",
    "    analysis_df, \n",
    "    values=['name', 'Population (millions)'], \n",
    "    index=['region', 'country'],\n",
    "    aggfunc={'name': np.size, 'Population (millions)': np.mean}\n",
    ")\n",
    "table['total_articles'] = table['name']\n",
    "\n",
    "table['articles per million population'] = table['total_articles'] / table['Population (millions)']"
   ]
  },
  {
   "cell_type": "markdown",
   "metadata": {},
   "source": [
    "The top 10 countries by articles per million population are"
   ]
  },
  {
   "cell_type": "code",
   "execution_count": 38,
   "metadata": {},
   "outputs": [
    {
     "name": "stdout",
     "output_type": "stream",
     "text": [
      "| country                        |   articles per million population |\n",
      "|:-------------------------------|----------------------------------:|\n",
      "| antigua and barbuda            |                          170      |\n",
      "| federated states of micronesia |                          130      |\n",
      "| andorra                        |                          100      |\n",
      "| barbados                       |                           93.3333 |\n",
      "| marshall islands               |                           90      |\n",
      "| montenegro                     |                           60      |\n",
      "| seychelles                     |                           60      |\n",
      "| luxembourg                     |                           52.8571 |\n",
      "| bhutan                         |                           51.25   |\n",
      "| grenada                        |                           50      |\n"
     ]
    }
   ],
   "source": [
    "print(table.droplevel('region')['articles per million population'].nlargest(n=10).to_markdown())"
   ]
  },
  {
   "cell_type": "markdown",
   "metadata": {},
   "source": [
    "The bottom 10 countries by articles per million population are"
   ]
  },
  {
   "cell_type": "code",
   "execution_count": 39,
   "metadata": {},
   "outputs": [
    {
     "name": "stdout",
     "output_type": "stream",
     "text": [
      "| country      |   articles per million population |\n",
      "|:-------------|----------------------------------:|\n",
      "| china        |                        0.00139218 |\n",
      "| mexico       |                        0.00784314 |\n",
      "| saudi arabia |                        0.0817439  |\n",
      "| romania      |                        0.105263   |\n",
      "| india        |                        0.1256     |\n",
      "| sri lanka    |                        0.133929   |\n",
      "| egypt        |                        0.135266   |\n",
      "| ethiopia     |                        0.202593   |\n",
      "| taiwan       |                        0.215517   |\n",
      "| vietnam      |                        0.27163    |\n"
     ]
    }
   ],
   "source": [
    "print(table.droplevel('region')['articles per million population'].nsmallest(n=10).to_markdown())"
   ]
  },
  {
   "cell_type": "markdown",
   "metadata": {},
   "source": [
    "Next we do something similar but only for the high quality articles. We filter for only the high quality articles, then we calculate the total number of high quality articles per country.  \n",
    "We then divide the total number of high quality articles by the population in millions to get high quality articles per million population."
   ]
  },
  {
   "cell_type": "code",
   "execution_count": 40,
   "metadata": {},
   "outputs": [],
   "source": [
    "high_quality_df = analysis_df[analysis_df['is_high_quality']==True]\n",
    "\n",
    "table_high_quality = pd.pivot_table(\n",
    "    high_quality_df, \n",
    "    values=['name', 'Population (millions)'], \n",
    "    index=['region', 'country'],\n",
    "    aggfunc={'name': np.size, 'Population (millions)': np.mean}\n",
    ")\n",
    "table_high_quality['total_articles'] = table_high_quality['name']\n",
    "\n",
    "table_high_quality['articles per million population'] = table_high_quality['total_articles'] / table_high_quality['Population (millions)']"
   ]
  },
  {
   "cell_type": "markdown",
   "metadata": {},
   "source": [
    "The top 10 countries by articles per million population are"
   ]
  },
  {
   "cell_type": "code",
   "execution_count": 41,
   "metadata": {},
   "outputs": [
    {
     "name": "stdout",
     "output_type": "stream",
     "text": [
      "| country               |   articles per million population |\n",
      "|:----------------------|----------------------------------:|\n",
      "| andorra               |                         20        |\n",
      "| montenegro            |                          5        |\n",
      "| albania               |                          2.14286  |\n",
      "| suriname              |                          1.66667  |\n",
      "| bosnia-herzegovina    |                          1.47059  |\n",
      "| lithuania             |                          1.07143  |\n",
      "| croatia               |                          1.05263  |\n",
      "| slovenia              |                          0.952381 |\n",
      "| palestinian territory |                          0.925926 |\n",
      "| gabon                 |                          0.833333 |\n"
     ]
    }
   ],
   "source": [
    "print(table_high_quality.droplevel('region')['articles per million population'].nlargest(n=10).to_markdown())"
   ]
  },
  {
   "cell_type": "markdown",
   "metadata": {},
   "source": [
    "The bottom 10 countries by articles per million population are"
   ]
  },
  {
   "cell_type": "code",
   "execution_count": 42,
   "metadata": {},
   "outputs": [
    {
     "name": "stdout",
     "output_type": "stream",
     "text": [
      "| country   |   articles per million population |\n",
      "|:----------|----------------------------------:|\n",
      "| india     |                         0.0042337 |\n",
      "| thailand  |                         0.0149701 |\n",
      "| japan     |                         0.0160128 |\n",
      "| nigeria   |                         0.0183066 |\n",
      "| vietnam   |                         0.0201207 |\n",
      "| colombia  |                         0.0203666 |\n",
      "| uganda    |                         0.0211864 |\n",
      "| pakistan  |                         0.0212044 |\n",
      "| sudan     |                         0.021322  |\n",
      "| iran      |                         0.0225734 |\n"
     ]
    }
   ],
   "source": [
    "print(table_high_quality.droplevel('region')['articles per million population'].nsmallest(n=10).to_markdown())"
   ]
  },
  {
   "cell_type": "markdown",
   "metadata": {},
   "source": [
    "Next we get the articles per million population at region level. We do this by aggregating the table created previously at region level."
   ]
  },
  {
   "cell_type": "code",
   "execution_count": 43,
   "metadata": {},
   "outputs": [],
   "source": [
    "region_table = table.groupby(level=['region']).sum()\n",
    "region_table['articles per million population'] = region_table['total_articles'] / region_table['Population (millions)']"
   ]
  },
  {
   "cell_type": "markdown",
   "metadata": {},
   "source": [
    "The regions sorted by articles per million population are shown below"
   ]
  },
  {
   "cell_type": "code",
   "execution_count": 47,
   "metadata": {},
   "outputs": [
    {
     "name": "stdout",
     "output_type": "stream",
     "text": [
      "| region          |   articles per million population |\n",
      "|:----------------|----------------------------------:|\n",
      "| NORTHERN EUROPE |                          7.75148  |\n",
      "| OCEANIA         |                          6.15385  |\n",
      "| SOUTHERN EUROPE |                          5.88469  |\n",
      "| CARIBBEAN       |                          5.08861  |\n",
      "| WESTERN EUROPE  |                          3.47384  |\n",
      "| EASTERN EUROPE  |                          2.55741  |\n",
      "| WESTERN ASIA    |                          2.33095  |\n",
      "| SOUTHERN AFRICA |                          1.71806  |\n",
      "| EASTERN AFRICA  |                          1.3821   |\n",
      "| CENTRAL ASIA    |                          1.35897  |\n",
      "| SOUTH AMERICA   |                          1.33072  |\n",
      "| WESTERN AFRICA  |                          1.31922  |\n",
      "| CENTRAL AMERICA |                          1.09612  |\n",
      "| MIDDLE AFRICA   |                          1.03624  |\n",
      "| NORTHERN AFRICA |                          0.905826 |\n",
      "| SOUTHEAST ASIA  |                          0.736109 |\n",
      "| SOUTH ASIA      |                          0.322613 |\n",
      "| EAST ASIA       |                          0.147076 |\n"
     ]
    }
   ],
   "source": [
    "print(region_table['articles per million population'].sort_values(ascending=False).to_markdown())"
   ]
  },
  {
   "cell_type": "markdown",
   "metadata": {},
   "source": [
    "Similarly, we get the high quality articles per million population at region level by aggregating the table created previously at region level."
   ]
  },
  {
   "cell_type": "code",
   "execution_count": 48,
   "metadata": {},
   "outputs": [],
   "source": [
    "region_table_high_quality = table_high_quality.groupby(level=['region']).sum()\n",
    "region_table_high_quality['articles per million population'] = region_table_high_quality['total_articles'] / region_table_high_quality['Population (millions)']"
   ]
  },
  {
   "cell_type": "markdown",
   "metadata": {},
   "source": [
    "The regions sorted by high quality articles per million population are shown below"
   ]
  },
  {
   "cell_type": "code",
   "execution_count": 49,
   "metadata": {},
   "outputs": [
    {
     "name": "stdout",
     "output_type": "stream",
     "text": [
      "| region          |   articles per million population |\n",
      "|:----------------|----------------------------------:|\n",
      "| SOUTHERN EUROPE |                         0.581542  |\n",
      "| NORTHERN EUROPE |                         0.4       |\n",
      "| CENTRAL AMERICA |                         0.296736  |\n",
      "| CARIBBEAN       |                         0.235988  |\n",
      "| WESTERN ASIA    |                         0.151025  |\n",
      "| MIDDLE AFRICA   |                         0.139276  |\n",
      "| EASTERN EUROPE  |                         0.13385   |\n",
      "| WESTERN EUROPE  |                         0.117521  |\n",
      "| CENTRAL ASIA    |                         0.115385  |\n",
      "| OCEANIA         |                         0.107527  |\n",
      "| SOUTH AMERICA   |                         0.0950988 |\n",
      "| EAST ASIA       |                         0.0789733 |\n",
      "| NORTHERN AFRICA |                         0.0684932 |\n",
      "| SOUTHERN AFRICA |                         0.0660066 |\n",
      "| EASTERN AFRICA  |                         0.0536097 |\n",
      "| SOUTHEAST ASIA  |                         0.0440044 |\n",
      "| WESTERN AFRICA  |                         0.0414409 |\n",
      "| SOUTH ASIA      |                         0.012682  |\n"
     ]
    }
   ],
   "source": [
    "print(region_table_high_quality['articles per million population'].sort_values(ascending=False).to_markdown())"
   ]
  },
  {
   "cell_type": "code",
   "execution_count": null,
   "metadata": {},
   "outputs": [],
   "source": []
  }
 ],
 "metadata": {
  "kernelspec": {
   "display_name": "Python 3.8.10 ('hw2_env': venv)",
   "language": "python",
   "name": "python3"
  },
  "language_info": {
   "codemirror_mode": {
    "name": "ipython",
    "version": 3
   },
   "file_extension": ".py",
   "mimetype": "text/x-python",
   "name": "python",
   "nbconvert_exporter": "python",
   "pygments_lexer": "ipython3",
   "version": "3.8.10"
  },
  "orig_nbformat": 4,
  "vscode": {
   "interpreter": {
    "hash": "5e93624fe2d5da95acdb84aec5ad2a3fd094f1e0d70a714d89819fb06dca26bb"
   }
  }
 },
 "nbformat": 4,
 "nbformat_minor": 2
}
